{
 "cells": [
  {
   "cell_type": "markdown",
   "id": "d8c71d5c",
   "metadata": {},
   "source": [
    "## Exploratory Data Analysis and Pre-Model Cleaning\n",
    "\n",
    "In this notebook, we analyze the data containing call and put prices from Apple (AAPL). We will take a look at the basic features we are working with, as well clean the data to prepare it for modeling using ML methods. "
   ]
  },
  {
   "cell_type": "code",
   "execution_count": 5,
   "id": "1dac8653",
   "metadata": {},
   "outputs": [],
   "source": [
    "import numpy as np\n",
    "import pandas as pd\n",
    "import matplotlib.pyplot as plt\n",
    "\n",
    "from IPython.display import display"
   ]
  },
  {
   "cell_type": "code",
   "execution_count": 2,
   "id": "834bc6ea",
   "metadata": {},
   "outputs": [
    {
     "name": "stdout",
     "output_type": "stream",
     "text": [
      "Index(['date_priced', 'date_expired', 'days_to_maturity', 'stock_bid',\n",
      "       'stock_ask', 'option_bid', 'option_ask', 'strike_price', 'option_type',\n",
      "       'rf_rate'],\n",
      "      dtype='object')\n"
     ]
    },
    {
     "data": {
      "text/html": [
       "<div>\n",
       "<style scoped>\n",
       "    .dataframe tbody tr th:only-of-type {\n",
       "        vertical-align: middle;\n",
       "    }\n",
       "\n",
       "    .dataframe tbody tr th {\n",
       "        vertical-align: top;\n",
       "    }\n",
       "\n",
       "    .dataframe thead th {\n",
       "        text-align: right;\n",
       "    }\n",
       "</style>\n",
       "<table border=\"1\" class=\"dataframe\">\n",
       "  <thead>\n",
       "    <tr style=\"text-align: right;\">\n",
       "      <th></th>\n",
       "      <th>date_priced</th>\n",
       "      <th>date_expired</th>\n",
       "      <th>days_to_maturity</th>\n",
       "      <th>stock_bid</th>\n",
       "      <th>stock_ask</th>\n",
       "      <th>option_bid</th>\n",
       "      <th>option_ask</th>\n",
       "      <th>strike_price</th>\n",
       "      <th>option_type</th>\n",
       "      <th>rf_rate</th>\n",
       "    </tr>\n",
       "  </thead>\n",
       "  <tbody>\n",
       "    <tr>\n",
       "      <th>0</th>\n",
       "      <td>2018-05-22</td>\n",
       "      <td>2018-05-24</td>\n",
       "      <td>2</td>\n",
       "      <td>187.3</td>\n",
       "      <td>187.32</td>\n",
       "      <td>0.0</td>\n",
       "      <td>0.01</td>\n",
       "      <td>130.0</td>\n",
       "      <td>put</td>\n",
       "      <td>0.017294</td>\n",
       "    </tr>\n",
       "    <tr>\n",
       "      <th>1</th>\n",
       "      <td>2018-05-22</td>\n",
       "      <td>2018-05-24</td>\n",
       "      <td>2</td>\n",
       "      <td>187.3</td>\n",
       "      <td>187.32</td>\n",
       "      <td>0.0</td>\n",
       "      <td>0.01</td>\n",
       "      <td>135.0</td>\n",
       "      <td>put</td>\n",
       "      <td>0.017294</td>\n",
       "    </tr>\n",
       "    <tr>\n",
       "      <th>2</th>\n",
       "      <td>2018-05-22</td>\n",
       "      <td>2018-05-24</td>\n",
       "      <td>2</td>\n",
       "      <td>187.3</td>\n",
       "      <td>187.32</td>\n",
       "      <td>0.0</td>\n",
       "      <td>0.01</td>\n",
       "      <td>140.0</td>\n",
       "      <td>put</td>\n",
       "      <td>0.017294</td>\n",
       "    </tr>\n",
       "    <tr>\n",
       "      <th>3</th>\n",
       "      <td>2018-05-22</td>\n",
       "      <td>2018-05-24</td>\n",
       "      <td>2</td>\n",
       "      <td>187.3</td>\n",
       "      <td>187.32</td>\n",
       "      <td>0.0</td>\n",
       "      <td>0.05</td>\n",
       "      <td>142.0</td>\n",
       "      <td>put</td>\n",
       "      <td>0.017294</td>\n",
       "    </tr>\n",
       "    <tr>\n",
       "      <th>4</th>\n",
       "      <td>2018-05-22</td>\n",
       "      <td>2018-05-24</td>\n",
       "      <td>2</td>\n",
       "      <td>187.3</td>\n",
       "      <td>187.32</td>\n",
       "      <td>0.0</td>\n",
       "      <td>0.07</td>\n",
       "      <td>143.0</td>\n",
       "      <td>put</td>\n",
       "      <td>0.017294</td>\n",
       "    </tr>\n",
       "  </tbody>\n",
       "</table>\n",
       "</div>"
      ],
      "text/plain": [
       "  date_priced date_expired  days_to_maturity  stock_bid  stock_ask  \\\n",
       "0  2018-05-22   2018-05-24                 2      187.3     187.32   \n",
       "1  2018-05-22   2018-05-24                 2      187.3     187.32   \n",
       "2  2018-05-22   2018-05-24                 2      187.3     187.32   \n",
       "3  2018-05-22   2018-05-24                 2      187.3     187.32   \n",
       "4  2018-05-22   2018-05-24                 2      187.3     187.32   \n",
       "\n",
       "   option_bid  option_ask  strike_price option_type   rf_rate  \n",
       "0         0.0        0.01         130.0         put  0.017294  \n",
       "1         0.0        0.01         135.0         put  0.017294  \n",
       "2         0.0        0.01         140.0         put  0.017294  \n",
       "3         0.0        0.05         142.0         put  0.017294  \n",
       "4         0.0        0.07         143.0         put  0.017294  "
      ]
     },
     "execution_count": 2,
     "metadata": {},
     "output_type": "execute_result"
    }
   ],
   "source": [
    "aapl_df = pd.read_pickle('/home/jul-ian/Github/ml-options/data/processed/stocks_df/aapl_df.pkl')\n",
    "\n",
    "print(aapl_df.columns)\n",
    "aapl_df.head()"
   ]
  },
  {
   "cell_type": "markdown",
   "id": "ce2c47d7",
   "metadata": {},
   "source": [
    "The Black-Scholes formula for the price of a call (C = N(d_1)S_t - N(d_2)Ke^(-rt)) includes the price of the stock at time t. But in the real world, there are separate prices at which buyers are willing to buy, and sellers are willing to sell. The maximum at which a buyer will buy is the bid price, while the lowest the seller will sell is the ask price. The ask price is usually higher than the bid, and the difference is referred to as the bid-ask spread. As an initial simplification, we will take the midpoint of the bid and ask to be the input price. We will also do this for the price of the option, since it also has bid and ask prices."
   ]
  },
  {
   "cell_type": "code",
   "execution_count": 3,
   "id": "cc53c6fe",
   "metadata": {},
   "outputs": [],
   "source": [
    "aapl_df['stock_mid'] = (aapl_df['stock_bid'] + aapl_df['stock_ask']) / 2\n",
    "aapl_df['option_mid'] = (aapl_df['option_bid'] + aapl_df['option_ask']) / 2"
   ]
  },
  {
   "cell_type": "markdown",
   "id": "8a646012",
   "metadata": {},
   "source": [
    "We see that the 'option_type' column denotes whether the option is as call or put. At this initial stage, for simplicity, we will focus on just calls."
   ]
  },
  {
   "cell_type": "code",
   "execution_count": 4,
   "id": "0282c47e",
   "metadata": {},
   "outputs": [
    {
     "data": {
      "text/plain": [
       "call    492384\n",
       "put     483595\n",
       "Name: option_type, dtype: int64"
      ]
     },
     "metadata": {},
     "output_type": "display_data"
    },
    {
     "data": {
      "text/plain": [
       "(492384, 12)"
      ]
     },
     "execution_count": 4,
     "metadata": {},
     "output_type": "execute_result"
    }
   ],
   "source": [
    "display(aapl_df['option_type'].value_counts().sort_index())\n",
    "\n",
    "aapl_call_df = aapl_df[aapl_df['option_type'] == 'call']\n",
    "\n",
    "aapl_call_df.shape"
   ]
  },
  {
   "cell_type": "markdown",
   "id": "c41337ea",
   "metadata": {},
   "source": [
    "We will take a look at the stock and option prices first."
   ]
  },
  {
   "cell_type": "code",
   "execution_count": 13,
   "id": "2e092268",
   "metadata": {},
   "outputs": [
    {
     "data": {
      "image/png": "[encoded data removed]",
      "text/plain": [
       "<Figure size 640x480 with 1 Axes>"
      ]
     },
     "metadata": {},
     "output_type": "display_data"
    },
    {
     "data": {
      "image/png": "[encoded data removed]",
      "text/plain": [
       "<Figure size 640x480 with 1 Axes>"
      ]
     },
     "metadata": {},
     "output_type": "display_data"
    }
   ],
   "source": [
    "plt.hist(aapl_df['stock_mid'])\n",
    "plt.show()\n",
    "\n",
    "plt.hist(aapl_df['option_mid'])\n",
    "plt.show()"
   ]
  }
 ],
 "metadata": {
  "kernelspec": {
   "display_name": "Python 3 (ipykernel)",
   "language": "python",
   "name": "python3"
  },
  "language_info": {
   "codemirror_mode": {
    "name": "ipython",
    "version": 3
   },
   "file_extension": ".py",
   "mimetype": "text/x-python",
   "name": "python",
   "nbconvert_exporter": "python",
   "pygments_lexer": "ipython3",
   "version": "3.10.9"
  }
 },
 "nbformat": 4,
 "nbformat_minor": 5
}
